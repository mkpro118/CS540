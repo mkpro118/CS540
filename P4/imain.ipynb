{
 "cells": [
  {
   "cell_type": "code",
   "execution_count": 1,
   "id": "2a870a62-4796-44b9-9a1a-5165c59f048f",
   "metadata": {},
   "outputs": [],
   "source": [
    "import pandas as pd\n",
    "import numpy as np\n",
    "from typing import Any\n",
    "try:\n",
    "    from typing import Self\n",
    "except ImportError:\n",
    "    from typing_extensions import Self"
   ]
  },
  {
   "cell_type": "code",
   "execution_count": 2,
   "id": "831a995b-7b72-4be1-b1ef-299d45f8c540",
   "metadata": {},
   "outputs": [],
   "source": [
    "def array_to_str(arr):\n",
    "    if arr.ndim == 1:\n",
    "        return ','.join(map(str, np.around(arr, 4).tolist()))\n",
    "    elif arr.ndim == 2:\n",
    "        return '\\n'.join((','.join(map(str, x)) for x in np.around(arr, 4).tolist()))\n",
    "    else:\n",
    "        raise ValueError('Only 1 and 2-d arrays suppported')\n",
    "\n",
    "def write(file: str, data: Any):\n",
    "    with open(file, 'w') as f:\n",
    "        f.write(data if isinstance(data, str) else str(data))\n",
    "\n",
    "def rescale(x: np.ndarray) -> np.ndarray:\n",
    "    min_ = np.min(x)\n",
    "    range_ = np.ptp(x)\n",
    "    return (x - min_) / range_"
   ]
  },
  {
   "cell_type": "code",
   "execution_count": 3,
   "id": "3b718a53-3fb8-4a5a-86df-f4e1088fe9bc",
   "metadata": {},
   "outputs": [],
   "source": [
    "df = pd.read_csv('time_series_covid19_deaths_US_raw.csv')\n",
    "raw_data = df.to_numpy()"
   ]
  },
  {
   "cell_type": "code",
   "execution_count": 4,
   "id": "a1a133db-017a-4d05-ad5d-7a5dfdea9906",
   "metadata": {},
   "outputs": [],
   "source": [
    "cum_data = np.cumsum(raw_data, axis=0)\n",
    "data = np.diff(cum_data)\n",
    "\n",
    "del raw_data"
   ]
  },
  {
   "cell_type": "code",
   "execution_count": 5,
   "id": "4c78a7e1-ca01-4372-a964-71e0e43853a5",
   "metadata": {},
   "outputs": [],
   "source": [
    "wisc_cal_data = cum_data[(4, 48), :]\n",
    "q1_str = array_to_str(wisc_cal_data)\n",
    "write('q1.txt', q1_str)\n",
    "\n",
    "del cum_data\n",
    "del q1_str"
   ]
  },
  {
   "cell_type": "code",
   "execution_count": 6,
   "id": "b0776207-950f-405a-97e1-61be003f86d8",
   "metadata": {},
   "outputs": [],
   "source": [
    "q2_data = data[(4, 48), :] # 4-> cal, 48 -> wisco\n",
    "q2_str = array_to_str(q2_data)\n",
    "write('q2.txt', q2_str)\n",
    "\n",
    "del q2_data\n",
    "del q2_str"
   ]
  },
  {
   "cell_type": "code",
   "execution_count": 7,
   "id": "57e5307f-105e-41b8-926b-1598e787149c",
   "metadata": {},
   "outputs": [],
   "source": [
    "write('q3.txt', '''Mean of the time-differenced data\n",
    "Standard deviation of the time-differenced data\n",
    "Median of the time-differenced data\n",
    "Linear trend coefficient of the data\n",
    "Auto-correlation of the data''')"
   ]
  },
  {
   "cell_type": "code",
   "execution_count": 8,
   "id": "bbf249da-68f6-43ea-aa31-9b87aae921de",
   "metadata": {},
   "outputs": [],
   "source": [
    "mean = np.mean(data, axis=1)\n",
    "mean = rescale(mean)"
   ]
  },
  {
   "cell_type": "code",
   "execution_count": 9,
   "id": "8eef45d3-b077-4671-b23c-c37f3deedd06",
   "metadata": {},
   "outputs": [],
   "source": [
    "std = np.std(data, axis=1)\n",
    "std = rescale(std)"
   ]
  },
  {
   "cell_type": "code",
   "execution_count": 10,
   "id": "be3427de-0d2f-4723-8c6a-8edb51e2db38",
   "metadata": {},
   "outputs": [],
   "source": [
    "median = np.median(data, axis=1)\n",
    "median = rescale(median)"
   ]
  },
  {
   "cell_type": "code",
   "execution_count": 11,
   "id": "4b596765-6524-4eca-8a2f-b4aa12303de4",
   "metadata": {},
   "outputs": [],
   "source": [
    "ltc = np.array([sum((x[i] - mean[idx]) * (i + 1 - (half_length := ((data.shape[-1] + 1) / 2))) for i in range(len(x))) for idx, x in enumerate(data.tolist())]) / sum((i+1 - half_length) ** 2 for i in range(data.shape[-1]))\n",
    "ltc = rescale(ltc)"
   ]
  },
  {
   "cell_type": "code",
   "execution_count": 12,
   "id": "b14d1ecb-1370-4401-8602-6e57de68e0bc",
   "metadata": {},
   "outputs": [],
   "source": [
    "ac = np.array([ sum((x[i] * x[i-1] for i in range(1, len(x)))) / np.sum(np.power(x, 2)) for x in (data - mean.reshape(50, -1)).tolist()])\n",
    "ac = rescale(ac)"
   ]
  },
  {
   "cell_type": "code",
   "execution_count": 13,
   "id": "98593ab8-e689-499d-9236-331944c16b8b",
   "metadata": {},
   "outputs": [],
   "source": [
    "parametric_data = np.empty((50, 5))\n",
    "parametric_data[:, 0] = mean\n",
    "parametric_data[:, 1] = std\n",
    "parametric_data[:, 2] = median\n",
    "parametric_data[:, 3] = ltc\n",
    "parametric_data[:, 4] = ac\n",
    "\n",
    "parametric_data\n",
    "q4_str = array_to_str(parametric_data)\n",
    "write('q4.txt', q4_str)\n",
    "del q4_str"
   ]
  },
  {
   "cell_type": "code",
   "execution_count": 14,
   "id": "fd919c80-3ece-4075-88de-8333eb53a585",
   "metadata": {},
   "outputs": [],
   "source": [
    "class HierarchicalClustering:\n",
    "    class Clustering:\n",
    "        @staticmethod\n",
    "        def _compute_distances(X: np.ndarray) -> np.ndarray:\n",
    "            n = X.shape[0]\n",
    "            distance_matrix = np.zeros((n, n))\n",
    "        \n",
    "            for i in range(n):\n",
    "                for j in range(i + 1, n):\n",
    "                    distance_matrix[i, j] = np.linalg.norm(X[i] - X[j])\n",
    "        \n",
    "            distance_matrix += distance_matrix.T\n",
    "        \n",
    "            return distance_matrix\n",
    "        \n",
    "        @staticmethod\n",
    "        def _single(distance_matrix: np.ndarray, num_clusters: int) -> list:\n",
    "            num_points = distance_matrix.shape[0]\n",
    "            clusters = [[i] for i in range(num_points)]\n",
    "        \n",
    "            while len(clusters) > num_clusters:\n",
    "                min_distance = np.inf\n",
    "                merge_index1, merge_index2 = None, None\n",
    "        \n",
    "                for i in range(len(clusters)):\n",
    "                    for j in range(i + 1, len(clusters)):\n",
    "                        cluster1 = clusters[i]\n",
    "                        cluster2 = clusters[j]\n",
    "        \n",
    "                        distance = np.min(distance_matrix[np.ix_(cluster1, cluster2)])\n",
    "        \n",
    "                        if distance < min_distance:\n",
    "                            min_distance = distance\n",
    "                            merge_index1, merge_index2 = i, j\n",
    "        \n",
    "                # Merge the two closest clusters\n",
    "                clusters[merge_index1].extend(clusters[merge_index2])\n",
    "                del clusters[merge_index2]\n",
    "        \n",
    "                combined_cluster = clusters[merge_index1]\n",
    "                for i in range(distance_matrix.shape[0]):\n",
    "                    if i in combined_cluster:\n",
    "                        continue\n",
    "                    distance = np.min(distance_matrix[np.ix_(combined_cluster, [i])])\n",
    "                    distance_matrix[i, combined_cluster] = distance\n",
    "                    distance_matrix[combined_cluster, i] = distance\n",
    "        \n",
    "            return tuple(map(tuple, clusters))\n",
    "    \n",
    "        @staticmethod\n",
    "        def _complete(distance_matrix: np.ndarray, n_clusters: int) -> list:\n",
    "            num_points = distance_matrix.shape[0]\n",
    "            clusters = [[i] for i in range(num_points)]\n",
    "        \n",
    "            while len(clusters) > n_clusters:\n",
    "                min_max_distance = np.inf\n",
    "                merge_index1, merge_index2 = None, None\n",
    "        \n",
    "                for i in range(len(clusters)):\n",
    "                    for j in range(i + 1, len(clusters)):\n",
    "                        cluster1 = clusters[i]\n",
    "                        cluster2 = clusters[j]\n",
    "        \n",
    "                        max_distance = np.max(distance_matrix[np.ix_(cluster1, cluster2)])\n",
    "        \n",
    "                        if max_distance < min_max_distance:\n",
    "                            min_max_distance = max_distance\n",
    "                            merge_index1, merge_index2 = i, j\n",
    "        \n",
    "                clusters[merge_index1].extend(clusters[merge_index2])\n",
    "                del clusters[merge_index2]\n",
    "        \n",
    "                combined_cluster = clusters[merge_index1]\n",
    "                for i in range(distance_matrix.shape[0]):\n",
    "                    if i in combined_cluster:\n",
    "                        continue\n",
    "                    distance = np.max(distance_matrix[np.ix_(combined_cluster, [i])])\n",
    "                    distance_matrix[i, combined_cluster] = distance\n",
    "                    distance_matrix[combined_cluster, i] = distance\n",
    "        \n",
    "            return clusters\n",
    "        \n",
    "    _METHODS = {\n",
    "        'single': Clustering._single,\n",
    "        'complete': Clustering._complete,\n",
    "    }\n",
    "\n",
    "    def __init__(self, n_clusters: int = 2, linkage: str = 'single'):\n",
    "        self._n_clusters = n_clusters\n",
    "        \n",
    "        assert HierarchicalClustering._is_linkage_valid(linkage), (\n",
    "            f'Invalid Linkage, valid linkages are \\'single\\' and '\n",
    "            f'\\'complete\\', found {linkage!r}'\n",
    "        )\n",
    "        \n",
    "        self._linkage = linkage\n",
    "\n",
    "    def _build(self, X: np.ndarray):\n",
    "        distance_matrix = HierarchicalClustering.Clustering._compute_distances(X)\n",
    "        cluster_func = HierarchicalClustering._METHODS.get(self._linkage)\n",
    "        if cluster_func is None:\n",
    "            raise ValueError(\n",
    "                f'Invalid Linkage, the Hierarchical Clustering instance '\n",
    "                f'may have been tampered with. found {self.linkage!r}'\n",
    "            )\n",
    "\n",
    "        self._clusters = cluster_func(distance_matrix, self._n_clusters)\n",
    "\n",
    "    def fit(self, X: np.ndarray) -> Self:\n",
    "        self._build(X)\n",
    "        return self\n",
    "\n",
    "    def predict(self, X: np.ndarray):\n",
    "        pass\n",
    "    \n",
    "    @property\n",
    "    def clusters(self):\n",
    "        return self._clusters\n",
    "\n",
    "    @clusters.setter\n",
    "    def clusters(self, value):\n",
    "        raise ValueError('The `clusters` attribute should not be modified externally!')\n",
    "    \n",
    "    @staticmethod\n",
    "    def _is_linkage_valid(linkage: str) -> bool:\n",
    "        return linkage in HierarchicalClustering._METHODS.keys()"
   ]
  },
  {
   "cell_type": "code",
   "execution_count": 15,
   "id": "990d2115-78bb-472f-8494-7c100e1b0cb8",
   "metadata": {},
   "outputs": [],
   "source": [
    "slhc = HierarchicalClustering(n_clusters = 5)\n",
    "slhc = slhc.fit(parametric_data)\n",
    "\n",
    "idxs = np.arange(parametric_data.shape[0])\n",
    "\n",
    "for cluster_idx, cluster in enumerate(slhc.clusters):\n",
    "    for item in cluster:\n",
    "        idxs[item] = cluster_idx\n",
    "\n",
    "q5_str = array_to_str(idxs)\n",
    "write('q5.txt', q5_str)\n",
    "del q5_str"
   ]
  },
  {
   "cell_type": "code",
   "execution_count": 16,
   "id": "1464e1fd-b763-4c1d-9d6f-97ad3f59af67",
   "metadata": {},
   "outputs": [],
   "source": [
    "clhc = HierarchicalClustering(n_clusters = 5, linkage='complete')\n",
    "clhc = clhc.fit(parametric_data)\n",
    "\n",
    "idxs = np.arange(parametric_data.shape[0])\n",
    "\n",
    "for cluster_idx, cluster in enumerate(clhc.clusters):\n",
    "    for item in cluster:\n",
    "        idxs[item] = cluster_idx\n",
    "\n",
    "q6_str = array_to_str(idxs)\n",
    "write('q6.txt', q6_str)\n",
    "del q6_str"
   ]
  },
  {
   "cell_type": "code",
   "execution_count": 17,
   "id": "4774cf37-17e2-425a-ad9e-cf364b24a2e2",
   "metadata": {},
   "outputs": [],
   "source": [
    "class KMeans:\n",
    "    class Clustering:\n",
    "        @staticmethod\n",
    "        def assign_points(centroids: np.ndarray, X: np.ndarray) -> np.ndarray:\n",
    "            distances = KMeans.Clustering.compute_distances(centroids, X)\n",
    "\n",
    "            return np.argmin(distances, axis=1)\n",
    "        \n",
    "        @staticmethod\n",
    "        def choose_centroids(X: np.ndarray, k: int = 2) -> np.ndarray:\n",
    "            return np.random.default_rng().choice(\n",
    "                X,\n",
    "                size=k,\n",
    "                replace=False,\n",
    "                shuffle=False\n",
    "            )\n",
    "\n",
    "        @staticmethod\n",
    "        def compute_centroids(X: np.ndarray, assignments: np.ndarray, k: int) -> np.ndarray:\n",
    "            centroids = np.empty((k, X.shape[1]))\n",
    "            for i in range(k):\n",
    "                idxs = assignments == i\n",
    "                centroids[i] = np.mean(X[idxs], axis=0)\n",
    "            return centroids\n",
    "        \n",
    "        @staticmethod\n",
    "        def compute_distances(centroids: np.ndarray, X: np.ndarray) -> np.ndarray:\n",
    "            return np.linalg.norm(X[:, np.newaxis] - centroids, axis=2)\n",
    "    \n",
    "    def __init__(self, k: int = 2, max_iters: int = 100, tol: float = 1e-5, ):\n",
    "        self._k = k\n",
    "        self._max_iters = max_iters\n",
    "        self._tol = abs(tol)\n",
    "    \n",
    "    def _build(self, X: np.ndarray):\n",
    "        self._centroids = KMeans.Clustering.choose_centroids(X, self.k)\n",
    "\n",
    "        old_centroids = np.empty_like(self._centroids)\n",
    "        for _ in range(self._max_iters):\n",
    "            np.copyto(old_centroids, self._centroids)\n",
    "            \n",
    "            assignments = KMeans.Clustering.assign_points(self._centroids, X)\n",
    "\n",
    "            self._centroids = KMeans.Clustering.compute_centroids(X, assignments, self.k)\n",
    "\n",
    "            if np.all(np.abs(self.centroids - old_centroids) < self._tol):\n",
    "                self._converged_in = _\n",
    "                break\n",
    "    \n",
    "    def fit(self, X: np.ndarray) -> Self:\n",
    "        self._build(X)\n",
    "        return self\n",
    "    \n",
    "    def predict(self, X: np.ndarray) -> np.ndarray:\n",
    "        return KMeans.Clustering.assign_points(self._centroids, X)\n",
    "\n",
    "    def distortion(self, X: np.ndarray) -> np.ndarray:\n",
    "        assignments = self.predict(X)\n",
    "        _distortion = 0\n",
    "        \n",
    "        for i in range(centroids.shape[0]):\n",
    "            idxs = assignments == i\n",
    "            _distortion += np.sum((X[idxs] - self._centroids[i]) ** 2)\n",
    "    \n",
    "        return _distortion\n",
    "    \n",
    "    @property\n",
    "    def centroids(self):\n",
    "        return self._centroids\n",
    "    \n",
    "    @centroids.setter\n",
    "    def centroids(self):\n",
    "        raise ValueError('The `centroids` attribute should not be modified externally!')\n",
    "    \n",
    "    @property\n",
    "    def k(self):\n",
    "        return self._k\n",
    "    \n",
    "    @k.setter\n",
    "    def k(self):\n",
    "        raise ValueError('The `k` attribute should not be modified externally!')"
   ]
  },
  {
   "cell_type": "code",
   "execution_count": 18,
   "id": "8bab7950-d679-4c08-8aea-b4d32db72c3f",
   "metadata": {},
   "outputs": [
    {
     "data": {
      "text/plain": [
       "<__main__.KMeans at 0x2b222455690>"
      ]
     },
     "execution_count": 18,
     "metadata": {},
     "output_type": "execute_result"
    }
   ],
   "source": [
    "kmeans = KMeans(k=5)\n",
    "kmeans.fit(parametric_data)"
   ]
  },
  {
   "cell_type": "code",
   "execution_count": 19,
   "id": "40637d78-d86b-4a4d-9b16-006f04c3b3cc",
   "metadata": {},
   "outputs": [
    {
     "name": "stdout",
     "output_type": "stream",
     "text": [
      "[1 1 1 1 4 4 4 4 4 4 4 4 0 0 0 0 0 0 0 0 0 2 2 2 2 2 2 2 2 2 2 3 3 3 3 3 3\n",
      " 3 3 3 3 3 3 3 3 3 3 3 3 3]\n"
     ]
    }
   ],
   "source": [
    "predictions = kmeans.predict(parametric_data)\n",
    "print(predictions)\n",
    "\n",
    "q7_str = array_to_str(predictions)\n",
    "write('q7.txt', q7_str)"
   ]
  },
  {
   "cell_type": "code",
   "execution_count": 20,
   "id": "47cad3f5-a6c2-4002-9e7d-44049076c722",
   "metadata": {},
   "outputs": [
    {
     "name": "stdout",
     "output_type": "stream",
     "text": [
      "[[0.3841545  0.4013964  0.40084187 0.65194206 0.78788545]\n",
      " [0.01910688 0.0263451  0.01608292 0.98534334 0.09319708]\n",
      " [0.53421437 0.53750169 0.5568263  0.51533993 0.85327648]\n",
      " [0.84635037 0.84669477 0.85448253 0.09738579 0.97692389]\n",
      " [0.21272193 0.24230699 0.22399929 0.80436664 0.73502808]]\n"
     ]
    }
   ],
   "source": [
    "centroids = kmeans.centroids\n",
    "print(centroids)\n",
    "\n",
    "q8_str = array_to_str(centroids)\n",
    "write('q8.txt', q8_str)"
   ]
  },
  {
   "cell_type": "code",
   "execution_count": 21,
   "id": "2f564a1d-1337-4a86-8709-4dd5de1e69d4",
   "metadata": {},
   "outputs": [
    {
     "name": "stdout",
     "output_type": "stream",
     "text": [
      "1.2217977243933051\n"
     ]
    }
   ],
   "source": [
    "distortion = kmeans.distortion(parametric_data)\n",
    "print(distortion)\n",
    "\n",
    "q9_str = str(np.around(distortion, 4))\n",
    "write('q9.txt', q9_str)"
   ]
  },
  {
   "cell_type": "code",
   "execution_count": 22,
   "id": "ec055bec-b7d7-420d-a305-98a33311f7c1",
   "metadata": {},
   "outputs": [
    {
     "name": "stdout",
     "output_type": "stream",
     "text": [
      "kmeans.labels_\n",
      "4,4,4,4,1,1,1,1,1,1,1,1,1,1,1,1,1,0,0,0,0,0,0,0,0,0,0,0,0,0,0,2,2,2,2,2,2,2,2,2,2,2,3,3,3,3,3,3,3,3\n",
      "kmeans.cluster_centers_\n",
      "0.5008,0.5065,0.5228,0.5458,0.8445\n",
      "0.2685,0.295,0.2807,0.755,0.7447\n",
      "0.7589,0.7591,0.768,0.1662,0.9635\n",
      "0.9666,0.9672,0.9734,0.0028,0.9954\n",
      "0.0191,0.0263,0.0161,0.9853,0.0932\n",
      "kmeans.inertia_\n",
      "0.8499\n"
     ]
    }
   ],
   "source": [
    "from sklearn.cluster import KMeans\n",
    "\n",
    "kmeans = KMeans(n_clusters=5, init='random', n_init='auto')\n",
    "kmeans.fit(parametric_data)\n",
    "\n",
    "print('kmeans.labels_', array_to_str(kmeans.predict(parametric_data)), sep='\\n')\n",
    "print('kmeans.cluster_centers_', array_to_str(kmeans.cluster_centers_), sep='\\n')\n",
    "print('kmeans.inertia_', round(kmeans.inertia_, 4), sep='\\n')"
   ]
  },
  {
   "cell_type": "code",
   "execution_count": 23,
   "id": "e4ae291b-6647-4adb-976d-afcdb1370407",
   "metadata": {},
   "outputs": [
    {
     "data": {
      "text/plain": [
       "7"
      ]
     },
     "execution_count": 23,
     "metadata": {},
     "output_type": "execute_result"
    }
   ],
   "source": [
    "# Number of iterations required to converge\n",
    "kmeans.n_iter_"
   ]
  },
  {
   "cell_type": "code",
   "execution_count": 24,
   "id": "f20235cb-0113-4056-9c2d-f41f497b55ee",
   "metadata": {
    "scrolled": true
   },
   "outputs": [
    {
     "data": {
      "text/plain": [
       "array([[0.        , 0.        , 0.        , 0.9986107 , 0.        ],\n",
       "       [0.00135718, 0.00114574, 0.00285919, 1.        , 0.03001297],\n",
       "       [0.03158952, 0.04806661, 0.02287348, 0.97337978, 0.05936597],\n",
       "       [0.0434808 , 0.05616804, 0.038599  , 0.96938287, 0.28340939],\n",
       "       [0.1358702 , 0.17360164, 0.13080772, 0.86019578, 0.77532947],\n",
       "       [0.14882183, 0.17734009, 0.15010722, 0.8482823 , 0.80630675],\n",
       "       [0.15998246, 0.1848012 , 0.16726233, 0.82087323, 0.83911766],\n",
       "       [0.1630183 , 0.18659993, 0.17441029, 0.81817872, 0.84661001],\n",
       "       [0.24233917, 0.271905  , 0.26161544, 0.7920042 , 0.61883036],\n",
       "       [0.28114474, 0.31229606, 0.30092924, 0.76432497, 0.66077738],\n",
       "       [0.28282614, 0.31355672, 0.30235883, 0.76617046, 0.66353116],\n",
       "       [0.28777262, 0.31835526, 0.30450322, 0.76490343, 0.66972189],\n",
       "       [0.32567128, 0.34922068, 0.34381701, 0.70054802, 0.7175366 ],\n",
       "       [0.34952234, 0.37023244, 0.3645461 , 0.67713332, 0.75670943],\n",
       "       [0.35931758, 0.38041995, 0.36740529, 0.66757312, 0.77391501],\n",
       "       [0.36851094, 0.39233553, 0.38170122, 0.66390161, 0.77161509],\n",
       "       [0.38506923, 0.40374416, 0.39957112, 0.67036901, 0.78151199],\n",
       "       [0.40220838, 0.41797965, 0.41887062, 0.63807578, 0.80524818],\n",
       "       [0.40488255, 0.4200107 , 0.42101501, 0.64167088, 0.80938536],\n",
       "       [0.41999233, 0.4305089 , 0.43959971, 0.62234024, 0.82738159],\n",
       "       [0.44221587, 0.44811561, 0.47105075, 0.58586659, 0.84766576],\n",
       "       [0.48076206, 0.48191522, 0.50893495, 0.56558417, 0.83349638],\n",
       "       [0.49434297, 0.49406205, 0.51822731, 0.55705013, 0.83909093],\n",
       "       [0.5065539 , 0.50718339, 0.53109364, 0.53896924, 0.84496258],\n",
       "       [0.52744127, 0.53178948, 0.54824875, 0.53523024, 0.84856725],\n",
       "       [0.53077668, 0.53507067, 0.55468192, 0.53373388, 0.84907256],\n",
       "       [0.53528477, 0.53972528, 0.5582559 , 0.5326905 , 0.852497  ],\n",
       "       [0.54617324, 0.5520883 , 0.56754825, 0.52649688, 0.85067251],\n",
       "       [0.5489159 , 0.55479058, 0.57112223, 0.52623001, 0.85228805],\n",
       "       [0.58180872, 0.58543468, 0.60185847, 0.41930996, 0.87949568],\n",
       "       [0.59008421, 0.5929572 , 0.60829164, 0.41810427, 0.88262189],\n",
       "       [0.66055237, 0.66069873, 0.66976412, 0.21864184, 0.95035186],\n",
       "       [0.68651956, 0.68757239, 0.69335239, 0.211559  , 0.93760624],\n",
       "       [0.68877544, 0.6893793 , 0.69478199, 0.20787884, 0.9382132 ],\n",
       "       [0.72694717, 0.72135414, 0.73266619, 0.17679725, 0.97123278],\n",
       "       [0.74336116, 0.73909215, 0.75411008, 0.18129267, 0.96089595],\n",
       "       [0.7519216 , 0.74628144, 0.76340243, 0.19023525, 0.95883197],\n",
       "       [0.79795054, 0.80066892, 0.80629021, 0.14601271, 0.97471906],\n",
       "       [0.80148504, 0.80451055, 0.81057898, 0.13736054, 0.97600046],\n",
       "       [0.81938589, 0.82090938, 0.83345247, 0.12318505, 0.97929171],\n",
       "       [0.82229935, 0.82416895, 0.83631165, 0.11907318, 0.97930816],\n",
       "       [0.8490255 , 0.85512579, 0.85346676, 0.11579255, 0.97193316],\n",
       "       [0.9343194 , 0.93676114, 0.93066476, 0.00302397, 1.        ],\n",
       "       [0.93915811, 0.94144229, 0.94710508, 0.00171078, 0.99994367],\n",
       "       [0.94000658, 0.9422068 , 0.94781987, 0.00327076, 0.99957279],\n",
       "       [0.96162094, 0.96102489, 0.9814153 , 0.        , 0.99835668],\n",
       "       [0.97594436, 0.97494891, 0.99070765, 0.00401468, 0.99217187],\n",
       "       [0.9832143 , 0.982981  , 0.98927806, 0.00746491, 0.9913023 ],\n",
       "       [0.99816973, 0.99807381, 1.        , 0.00144723, 0.99030089],\n",
       "       [1.        , 1.        , 1.        , 0.00156883, 0.99152111]])"
      ]
     },
     "execution_count": 24,
     "metadata": {},
     "output_type": "execute_result"
    }
   ],
   "source": [
    "parametric_data"
   ]
  },
  {
   "cell_type": "code",
   "execution_count": 25,
   "id": "66c6ab42-cd7e-4a25-8b9a-ba569a6f2be6",
   "metadata": {},
   "outputs": [
    {
     "data": {
      "text/plain": [
       "array([[0.40220838, 0.41797965, 0.41887062, 0.63807578, 0.80524818],\n",
       "       [0.40488255, 0.4200107 , 0.42101501, 0.64167088, 0.80938536],\n",
       "       [0.41999233, 0.4305089 , 0.43959971, 0.62234024, 0.82738159],\n",
       "       [0.44221587, 0.44811561, 0.47105075, 0.58586659, 0.84766576],\n",
       "       [0.48076206, 0.48191522, 0.50893495, 0.56558417, 0.83349638],\n",
       "       [0.49434297, 0.49406205, 0.51822731, 0.55705013, 0.83909093],\n",
       "       [0.5065539 , 0.50718339, 0.53109364, 0.53896924, 0.84496258],\n",
       "       [0.52744127, 0.53178948, 0.54824875, 0.53523024, 0.84856725],\n",
       "       [0.53077668, 0.53507067, 0.55468192, 0.53373388, 0.84907256],\n",
       "       [0.53528477, 0.53972528, 0.5582559 , 0.5326905 , 0.852497  ],\n",
       "       [0.54617324, 0.5520883 , 0.56754825, 0.52649688, 0.85067251],\n",
       "       [0.5489159 , 0.55479058, 0.57112223, 0.52623001, 0.85228805],\n",
       "       [0.58180872, 0.58543468, 0.60185847, 0.41930996, 0.87949568],\n",
       "       [0.59008421, 0.5929572 , 0.60829164, 0.41810427, 0.88262189]])"
      ]
     },
     "execution_count": 25,
     "metadata": {},
     "output_type": "execute_result"
    }
   ],
   "source": [
    "parametric_data[kmeans.labels_==0]"
   ]
  },
  {
   "cell_type": "code",
   "execution_count": 26,
   "id": "14b4ba28-7d2d-406c-83f2-016afdacece3",
   "metadata": {},
   "outputs": [
    {
     "data": {
      "text/plain": [
       "array([0.53647652, 0.5393929 , 0.54796455, 0.55898292, 0.57413856,\n",
       "       0.58055467, 0.58575255, 0.5982554 , 0.60066714, 0.60369069,\n",
       "       0.60859584, 0.61066936, 0.6135815 , 0.61841184])"
      ]
     },
     "execution_count": 26,
     "metadata": {},
     "output_type": "execute_result"
    }
   ],
   "source": [
    "parametric_data[kmeans.labels_==0].mean(axis=1)"
   ]
  },
  {
   "cell_type": "code",
   "execution_count": null,
   "id": "d29f30c2-d994-42c2-97ea-84dea48e72af",
   "metadata": {},
   "outputs": [],
   "source": []
  }
 ],
 "metadata": {
  "kernelspec": {
   "display_name": "Python 3 (ipykernel)",
   "language": "python",
   "name": "python3"
  },
  "language_info": {
   "codemirror_mode": {
    "name": "ipython",
    "version": 3
   },
   "file_extension": ".py",
   "mimetype": "text/x-python",
   "name": "python",
   "nbconvert_exporter": "python",
   "pygments_lexer": "ipython3",
   "version": "3.11.4"
  }
 },
 "nbformat": 4,
 "nbformat_minor": 5
}
